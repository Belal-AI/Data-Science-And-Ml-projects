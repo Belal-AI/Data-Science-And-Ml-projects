{
  "nbformat": 4,
  "nbformat_minor": 0,
  "metadata": {
    "colab": {
      "provenance": [],
      "authorship_tag": "ABX9TyPHywlew43B0w72R4FeYeus",
      "include_colab_link": true
    },
    "kernelspec": {
      "name": "python3",
      "display_name": "Python 3"
    },
    "language_info": {
      "name": "python"
    },
    "accelerator": "GPU",
    "gpuClass": "standard"
  },
  "cells": [
    {
      "cell_type": "markdown",
      "metadata": {
        "id": "view-in-github",
        "colab_type": "text"
      },
      "source": [
        "<a href=\"https://colab.research.google.com/github/Belal-AI/Data-Science-And-Ml-projects/blob/main/PCA.ipynb\" target=\"_parent\"><img src=\"https://colab.research.google.com/assets/colab-badge.svg\" alt=\"Open In Colab\"/></a>"
      ]
    },
    {
      "cell_type": "code",
      "execution_count": 1,
      "metadata": {
        "id": "-5ZlUw3rZ76Z"
      },
      "outputs": [],
      "source": [
        "import matplotlib.pyplot as plt\n",
        "import numpy as np\n",
        "import pandas as pd\n",
        "from sklearn.datasets import load_iris"
      ]
    },
    {
      "cell_type": "markdown",
      "source": [
        "**PCA TRAIL:**"
      ],
      "metadata": {
        "id": "b8HjtloarCvx"
      }
    },
    {
      "cell_type": "code",
      "source": [],
      "metadata": {
        "id": "Cb90k0OcrB9T"
      },
      "execution_count": 1,
      "outputs": []
    },
    {
      "cell_type": "code",
      "source": [
        "data=load_iris()"
      ],
      "metadata": {
        "id": "4dTdkxdLaP3s"
      },
      "execution_count": 2,
      "outputs": []
    },
    {
      "cell_type": "code",
      "source": [
        "data.target_names"
      ],
      "metadata": {
        "colab": {
          "base_uri": "https://localhost:8080/"
        },
        "id": "9xaIwGKma32d",
        "outputId": "47880171-ddce-47b5-f7ef-0cf9a3345ec0"
      },
      "execution_count": 3,
      "outputs": [
        {
          "output_type": "execute_result",
          "data": {
            "text/plain": [
              "array(['setosa', 'versicolor', 'virginica'], dtype='<U10')"
            ]
          },
          "metadata": {},
          "execution_count": 3
        }
      ]
    },
    {
      "cell_type": "code",
      "source": [
        "dataset=pd.DataFrame(data=data.data[:,:-1],columns=data.target_names)"
      ],
      "metadata": {
        "id": "oPTmcLHka5WT"
      },
      "execution_count": 4,
      "outputs": []
    },
    {
      "cell_type": "code",
      "source": [
        "dataset"
      ],
      "metadata": {
        "colab": {
          "base_uri": "https://localhost:8080/",
          "height": 424
        },
        "id": "LrBbrwRWbmAs",
        "outputId": "ce16f5b3-d88b-428b-d874-3175c2cc1471"
      },
      "execution_count": 5,
      "outputs": [
        {
          "output_type": "execute_result",
          "data": {
            "text/plain": [
              "     setosa  versicolor  virginica\n",
              "0       5.1         3.5        1.4\n",
              "1       4.9         3.0        1.4\n",
              "2       4.7         3.2        1.3\n",
              "3       4.6         3.1        1.5\n",
              "4       5.0         3.6        1.4\n",
              "..      ...         ...        ...\n",
              "145     6.7         3.0        5.2\n",
              "146     6.3         2.5        5.0\n",
              "147     6.5         3.0        5.2\n",
              "148     6.2         3.4        5.4\n",
              "149     5.9         3.0        5.1\n",
              "\n",
              "[150 rows x 3 columns]"
            ],
            "text/html": [
              "\n",
              "  <div id=\"df-bb338b0c-058a-42d5-bf7a-e8ab1ba31fe0\">\n",
              "    <div class=\"colab-df-container\">\n",
              "      <div>\n",
              "<style scoped>\n",
              "    .dataframe tbody tr th:only-of-type {\n",
              "        vertical-align: middle;\n",
              "    }\n",
              "\n",
              "    .dataframe tbody tr th {\n",
              "        vertical-align: top;\n",
              "    }\n",
              "\n",
              "    .dataframe thead th {\n",
              "        text-align: right;\n",
              "    }\n",
              "</style>\n",
              "<table border=\"1\" class=\"dataframe\">\n",
              "  <thead>\n",
              "    <tr style=\"text-align: right;\">\n",
              "      <th></th>\n",
              "      <th>setosa</th>\n",
              "      <th>versicolor</th>\n",
              "      <th>virginica</th>\n",
              "    </tr>\n",
              "  </thead>\n",
              "  <tbody>\n",
              "    <tr>\n",
              "      <th>0</th>\n",
              "      <td>5.1</td>\n",
              "      <td>3.5</td>\n",
              "      <td>1.4</td>\n",
              "    </tr>\n",
              "    <tr>\n",
              "      <th>1</th>\n",
              "      <td>4.9</td>\n",
              "      <td>3.0</td>\n",
              "      <td>1.4</td>\n",
              "    </tr>\n",
              "    <tr>\n",
              "      <th>2</th>\n",
              "      <td>4.7</td>\n",
              "      <td>3.2</td>\n",
              "      <td>1.3</td>\n",
              "    </tr>\n",
              "    <tr>\n",
              "      <th>3</th>\n",
              "      <td>4.6</td>\n",
              "      <td>3.1</td>\n",
              "      <td>1.5</td>\n",
              "    </tr>\n",
              "    <tr>\n",
              "      <th>4</th>\n",
              "      <td>5.0</td>\n",
              "      <td>3.6</td>\n",
              "      <td>1.4</td>\n",
              "    </tr>\n",
              "    <tr>\n",
              "      <th>...</th>\n",
              "      <td>...</td>\n",
              "      <td>...</td>\n",
              "      <td>...</td>\n",
              "    </tr>\n",
              "    <tr>\n",
              "      <th>145</th>\n",
              "      <td>6.7</td>\n",
              "      <td>3.0</td>\n",
              "      <td>5.2</td>\n",
              "    </tr>\n",
              "    <tr>\n",
              "      <th>146</th>\n",
              "      <td>6.3</td>\n",
              "      <td>2.5</td>\n",
              "      <td>5.0</td>\n",
              "    </tr>\n",
              "    <tr>\n",
              "      <th>147</th>\n",
              "      <td>6.5</td>\n",
              "      <td>3.0</td>\n",
              "      <td>5.2</td>\n",
              "    </tr>\n",
              "    <tr>\n",
              "      <th>148</th>\n",
              "      <td>6.2</td>\n",
              "      <td>3.4</td>\n",
              "      <td>5.4</td>\n",
              "    </tr>\n",
              "    <tr>\n",
              "      <th>149</th>\n",
              "      <td>5.9</td>\n",
              "      <td>3.0</td>\n",
              "      <td>5.1</td>\n",
              "    </tr>\n",
              "  </tbody>\n",
              "</table>\n",
              "<p>150 rows × 3 columns</p>\n",
              "</div>\n",
              "      <button class=\"colab-df-convert\" onclick=\"convertToInteractive('df-bb338b0c-058a-42d5-bf7a-e8ab1ba31fe0')\"\n",
              "              title=\"Convert this dataframe to an interactive table.\"\n",
              "              style=\"display:none;\">\n",
              "        \n",
              "  <svg xmlns=\"http://www.w3.org/2000/svg\" height=\"24px\"viewBox=\"0 0 24 24\"\n",
              "       width=\"24px\">\n",
              "    <path d=\"M0 0h24v24H0V0z\" fill=\"none\"/>\n",
              "    <path d=\"M18.56 5.44l.94 2.06.94-2.06 2.06-.94-2.06-.94-.94-2.06-.94 2.06-2.06.94zm-11 1L8.5 8.5l.94-2.06 2.06-.94-2.06-.94L8.5 2.5l-.94 2.06-2.06.94zm10 10l.94 2.06.94-2.06 2.06-.94-2.06-.94-.94-2.06-.94 2.06-2.06.94z\"/><path d=\"M17.41 7.96l-1.37-1.37c-.4-.4-.92-.59-1.43-.59-.52 0-1.04.2-1.43.59L10.3 9.45l-7.72 7.72c-.78.78-.78 2.05 0 2.83L4 21.41c.39.39.9.59 1.41.59.51 0 1.02-.2 1.41-.59l7.78-7.78 2.81-2.81c.8-.78.8-2.07 0-2.86zM5.41 20L4 18.59l7.72-7.72 1.47 1.35L5.41 20z\"/>\n",
              "  </svg>\n",
              "      </button>\n",
              "      \n",
              "  <style>\n",
              "    .colab-df-container {\n",
              "      display:flex;\n",
              "      flex-wrap:wrap;\n",
              "      gap: 12px;\n",
              "    }\n",
              "\n",
              "    .colab-df-convert {\n",
              "      background-color: #E8F0FE;\n",
              "      border: none;\n",
              "      border-radius: 50%;\n",
              "      cursor: pointer;\n",
              "      display: none;\n",
              "      fill: #1967D2;\n",
              "      height: 32px;\n",
              "      padding: 0 0 0 0;\n",
              "      width: 32px;\n",
              "    }\n",
              "\n",
              "    .colab-df-convert:hover {\n",
              "      background-color: #E2EBFA;\n",
              "      box-shadow: 0px 1px 2px rgba(60, 64, 67, 0.3), 0px 1px 3px 1px rgba(60, 64, 67, 0.15);\n",
              "      fill: #174EA6;\n",
              "    }\n",
              "\n",
              "    [theme=dark] .colab-df-convert {\n",
              "      background-color: #3B4455;\n",
              "      fill: #D2E3FC;\n",
              "    }\n",
              "\n",
              "    [theme=dark] .colab-df-convert:hover {\n",
              "      background-color: #434B5C;\n",
              "      box-shadow: 0px 1px 3px 1px rgba(0, 0, 0, 0.15);\n",
              "      filter: drop-shadow(0px 1px 2px rgba(0, 0, 0, 0.3));\n",
              "      fill: #FFFFFF;\n",
              "    }\n",
              "  </style>\n",
              "\n",
              "      <script>\n",
              "        const buttonEl =\n",
              "          document.querySelector('#df-bb338b0c-058a-42d5-bf7a-e8ab1ba31fe0 button.colab-df-convert');\n",
              "        buttonEl.style.display =\n",
              "          google.colab.kernel.accessAllowed ? 'block' : 'none';\n",
              "\n",
              "        async function convertToInteractive(key) {\n",
              "          const element = document.querySelector('#df-bb338b0c-058a-42d5-bf7a-e8ab1ba31fe0');\n",
              "          const dataTable =\n",
              "            await google.colab.kernel.invokeFunction('convertToInteractive',\n",
              "                                                     [key], {});\n",
              "          if (!dataTable) return;\n",
              "\n",
              "          const docLinkHtml = 'Like what you see? Visit the ' +\n",
              "            '<a target=\"_blank\" href=https://colab.research.google.com/notebooks/data_table.ipynb>data table notebook</a>'\n",
              "            + ' to learn more about interactive tables.';\n",
              "          element.innerHTML = '';\n",
              "          dataTable['output_type'] = 'display_data';\n",
              "          await google.colab.output.renderOutput(dataTable, element);\n",
              "          const docLink = document.createElement('div');\n",
              "          docLink.innerHTML = docLinkHtml;\n",
              "          element.appendChild(docLink);\n",
              "        }\n",
              "      </script>\n",
              "    </div>\n",
              "  </div>\n",
              "  "
            ]
          },
          "metadata": {},
          "execution_count": 5
        }
      ]
    },
    {
      "cell_type": "code",
      "source": [
        "dataset['target']=data.target"
      ],
      "metadata": {
        "id": "e1Eao_2Cbx8L"
      },
      "execution_count": 6,
      "outputs": []
    },
    {
      "cell_type": "code",
      "source": [
        "dataset"
      ],
      "metadata": {
        "colab": {
          "base_uri": "https://localhost:8080/",
          "height": 424
        },
        "id": "plIzt0c5cl8C",
        "outputId": "848bb3c0-a111-418b-bfe5-37a3e6238972"
      },
      "execution_count": 7,
      "outputs": [
        {
          "output_type": "execute_result",
          "data": {
            "text/plain": [
              "     setosa  versicolor  virginica  target\n",
              "0       5.1         3.5        1.4       0\n",
              "1       4.9         3.0        1.4       0\n",
              "2       4.7         3.2        1.3       0\n",
              "3       4.6         3.1        1.5       0\n",
              "4       5.0         3.6        1.4       0\n",
              "..      ...         ...        ...     ...\n",
              "145     6.7         3.0        5.2       2\n",
              "146     6.3         2.5        5.0       2\n",
              "147     6.5         3.0        5.2       2\n",
              "148     6.2         3.4        5.4       2\n",
              "149     5.9         3.0        5.1       2\n",
              "\n",
              "[150 rows x 4 columns]"
            ],
            "text/html": [
              "\n",
              "  <div id=\"df-723a5172-6c12-4509-8146-b9013645ba59\">\n",
              "    <div class=\"colab-df-container\">\n",
              "      <div>\n",
              "<style scoped>\n",
              "    .dataframe tbody tr th:only-of-type {\n",
              "        vertical-align: middle;\n",
              "    }\n",
              "\n",
              "    .dataframe tbody tr th {\n",
              "        vertical-align: top;\n",
              "    }\n",
              "\n",
              "    .dataframe thead th {\n",
              "        text-align: right;\n",
              "    }\n",
              "</style>\n",
              "<table border=\"1\" class=\"dataframe\">\n",
              "  <thead>\n",
              "    <tr style=\"text-align: right;\">\n",
              "      <th></th>\n",
              "      <th>setosa</th>\n",
              "      <th>versicolor</th>\n",
              "      <th>virginica</th>\n",
              "      <th>target</th>\n",
              "    </tr>\n",
              "  </thead>\n",
              "  <tbody>\n",
              "    <tr>\n",
              "      <th>0</th>\n",
              "      <td>5.1</td>\n",
              "      <td>3.5</td>\n",
              "      <td>1.4</td>\n",
              "      <td>0</td>\n",
              "    </tr>\n",
              "    <tr>\n",
              "      <th>1</th>\n",
              "      <td>4.9</td>\n",
              "      <td>3.0</td>\n",
              "      <td>1.4</td>\n",
              "      <td>0</td>\n",
              "    </tr>\n",
              "    <tr>\n",
              "      <th>2</th>\n",
              "      <td>4.7</td>\n",
              "      <td>3.2</td>\n",
              "      <td>1.3</td>\n",
              "      <td>0</td>\n",
              "    </tr>\n",
              "    <tr>\n",
              "      <th>3</th>\n",
              "      <td>4.6</td>\n",
              "      <td>3.1</td>\n",
              "      <td>1.5</td>\n",
              "      <td>0</td>\n",
              "    </tr>\n",
              "    <tr>\n",
              "      <th>4</th>\n",
              "      <td>5.0</td>\n",
              "      <td>3.6</td>\n",
              "      <td>1.4</td>\n",
              "      <td>0</td>\n",
              "    </tr>\n",
              "    <tr>\n",
              "      <th>...</th>\n",
              "      <td>...</td>\n",
              "      <td>...</td>\n",
              "      <td>...</td>\n",
              "      <td>...</td>\n",
              "    </tr>\n",
              "    <tr>\n",
              "      <th>145</th>\n",
              "      <td>6.7</td>\n",
              "      <td>3.0</td>\n",
              "      <td>5.2</td>\n",
              "      <td>2</td>\n",
              "    </tr>\n",
              "    <tr>\n",
              "      <th>146</th>\n",
              "      <td>6.3</td>\n",
              "      <td>2.5</td>\n",
              "      <td>5.0</td>\n",
              "      <td>2</td>\n",
              "    </tr>\n",
              "    <tr>\n",
              "      <th>147</th>\n",
              "      <td>6.5</td>\n",
              "      <td>3.0</td>\n",
              "      <td>5.2</td>\n",
              "      <td>2</td>\n",
              "    </tr>\n",
              "    <tr>\n",
              "      <th>148</th>\n",
              "      <td>6.2</td>\n",
              "      <td>3.4</td>\n",
              "      <td>5.4</td>\n",
              "      <td>2</td>\n",
              "    </tr>\n",
              "    <tr>\n",
              "      <th>149</th>\n",
              "      <td>5.9</td>\n",
              "      <td>3.0</td>\n",
              "      <td>5.1</td>\n",
              "      <td>2</td>\n",
              "    </tr>\n",
              "  </tbody>\n",
              "</table>\n",
              "<p>150 rows × 4 columns</p>\n",
              "</div>\n",
              "      <button class=\"colab-df-convert\" onclick=\"convertToInteractive('df-723a5172-6c12-4509-8146-b9013645ba59')\"\n",
              "              title=\"Convert this dataframe to an interactive table.\"\n",
              "              style=\"display:none;\">\n",
              "        \n",
              "  <svg xmlns=\"http://www.w3.org/2000/svg\" height=\"24px\"viewBox=\"0 0 24 24\"\n",
              "       width=\"24px\">\n",
              "    <path d=\"M0 0h24v24H0V0z\" fill=\"none\"/>\n",
              "    <path d=\"M18.56 5.44l.94 2.06.94-2.06 2.06-.94-2.06-.94-.94-2.06-.94 2.06-2.06.94zm-11 1L8.5 8.5l.94-2.06 2.06-.94-2.06-.94L8.5 2.5l-.94 2.06-2.06.94zm10 10l.94 2.06.94-2.06 2.06-.94-2.06-.94-.94-2.06-.94 2.06-2.06.94z\"/><path d=\"M17.41 7.96l-1.37-1.37c-.4-.4-.92-.59-1.43-.59-.52 0-1.04.2-1.43.59L10.3 9.45l-7.72 7.72c-.78.78-.78 2.05 0 2.83L4 21.41c.39.39.9.59 1.41.59.51 0 1.02-.2 1.41-.59l7.78-7.78 2.81-2.81c.8-.78.8-2.07 0-2.86zM5.41 20L4 18.59l7.72-7.72 1.47 1.35L5.41 20z\"/>\n",
              "  </svg>\n",
              "      </button>\n",
              "      \n",
              "  <style>\n",
              "    .colab-df-container {\n",
              "      display:flex;\n",
              "      flex-wrap:wrap;\n",
              "      gap: 12px;\n",
              "    }\n",
              "\n",
              "    .colab-df-convert {\n",
              "      background-color: #E8F0FE;\n",
              "      border: none;\n",
              "      border-radius: 50%;\n",
              "      cursor: pointer;\n",
              "      display: none;\n",
              "      fill: #1967D2;\n",
              "      height: 32px;\n",
              "      padding: 0 0 0 0;\n",
              "      width: 32px;\n",
              "    }\n",
              "\n",
              "    .colab-df-convert:hover {\n",
              "      background-color: #E2EBFA;\n",
              "      box-shadow: 0px 1px 2px rgba(60, 64, 67, 0.3), 0px 1px 3px 1px rgba(60, 64, 67, 0.15);\n",
              "      fill: #174EA6;\n",
              "    }\n",
              "\n",
              "    [theme=dark] .colab-df-convert {\n",
              "      background-color: #3B4455;\n",
              "      fill: #D2E3FC;\n",
              "    }\n",
              "\n",
              "    [theme=dark] .colab-df-convert:hover {\n",
              "      background-color: #434B5C;\n",
              "      box-shadow: 0px 1px 3px 1px rgba(0, 0, 0, 0.15);\n",
              "      filter: drop-shadow(0px 1px 2px rgba(0, 0, 0, 0.3));\n",
              "      fill: #FFFFFF;\n",
              "    }\n",
              "  </style>\n",
              "\n",
              "      <script>\n",
              "        const buttonEl =\n",
              "          document.querySelector('#df-723a5172-6c12-4509-8146-b9013645ba59 button.colab-df-convert');\n",
              "        buttonEl.style.display =\n",
              "          google.colab.kernel.accessAllowed ? 'block' : 'none';\n",
              "\n",
              "        async function convertToInteractive(key) {\n",
              "          const element = document.querySelector('#df-723a5172-6c12-4509-8146-b9013645ba59');\n",
              "          const dataTable =\n",
              "            await google.colab.kernel.invokeFunction('convertToInteractive',\n",
              "                                                     [key], {});\n",
              "          if (!dataTable) return;\n",
              "\n",
              "          const docLinkHtml = 'Like what you see? Visit the ' +\n",
              "            '<a target=\"_blank\" href=https://colab.research.google.com/notebooks/data_table.ipynb>data table notebook</a>'\n",
              "            + ' to learn more about interactive tables.';\n",
              "          element.innerHTML = '';\n",
              "          dataTable['output_type'] = 'display_data';\n",
              "          await google.colab.output.renderOutput(dataTable, element);\n",
              "          const docLink = document.createElement('div');\n",
              "          docLink.innerHTML = docLinkHtml;\n",
              "          element.appendChild(docLink);\n",
              "        }\n",
              "      </script>\n",
              "    </div>\n",
              "  </div>\n",
              "  "
            ]
          },
          "metadata": {},
          "execution_count": 7
        }
      ]
    },
    {
      "cell_type": "code",
      "source": [
        "dataset.shape"
      ],
      "metadata": {
        "colab": {
          "base_uri": "https://localhost:8080/"
        },
        "id": "oaamN2JAdU77",
        "outputId": "2df2e96c-f0b4-4556-d909-00dd9dfe726c"
      },
      "execution_count": 8,
      "outputs": [
        {
          "output_type": "execute_result",
          "data": {
            "text/plain": [
              "(150, 4)"
            ]
          },
          "metadata": {},
          "execution_count": 8
        }
      ]
    },
    {
      "cell_type": "markdown",
      "source": [
        "**SVD**\n",
        "- Singular Value Decomposition (SVD)\n",
        "that can decompose the training set matrix X into the matrix multiplication of three\n",
        "matrices U Σ V⊺\n",
        ", where V contains the unit vectors that define all the principal com‐\n",
        "ponents that we are looking for\n",
        "\n",
        "**hint :PCA assumes that the dataset is centered around the origin**"
      ],
      "metadata": {
        "id": "my1PbKFNfxTs"
      }
    },
    {
      "cell_type": "code",
      "source": [
        "data_centerd=dataset.iloc[:,:-1]-dataset.iloc[:,:-1].mean(axis=0) ##centering the\n",
        "u,l,vt=np.linalg.svd(data_centerd)"
      ],
      "metadata": {
        "id": "ORy2f2Fedeca"
      },
      "execution_count": 9,
      "outputs": []
    },
    {
      "cell_type": "code",
      "source": [
        "vt ## the pcs"
      ],
      "metadata": {
        "colab": {
          "base_uri": "https://localhost:8080/"
        },
        "id": "yEqi41iofHWr",
        "outputId": "aa45dc2c-35ce-402a-c798-513acb1bebfb"
      },
      "execution_count": 10,
      "outputs": [
        {
          "output_type": "execute_result",
          "data": {
            "text/plain": [
              "array([[ 0.38983343, -0.09100801,  0.91637735],\n",
              "       [-0.63922328, -0.74305866,  0.19813487],\n",
              "       [-0.66289026,  0.66300933,  0.34784355]])"
            ]
          },
          "metadata": {},
          "execution_count": 10
        }
      ]
    },
    {
      "cell_type": "markdown",
      "source": [
        "- **Once you have identified all the principal components, you can reduce the dimen‐\n",
        "sionality of the dataset down to d dimensions by projecting it onto the hyperplane\n",
        "defined by the first d principal components. Selecting this hyperplane ensures that the\n",
        "projection will preserve as much variance as possible**"
      ],
      "metadata": {
        "id": "h6LEP6UqhU2D"
      }
    },
    {
      "cell_type": "code",
      "source": [
        "x2d=np.dot(np.array(dataset.iloc[:,:-1]),vt.T[:,:-1])"
      ],
      "metadata": {
        "id": "nWiTCcK9fY_D"
      },
      "execution_count": 11,
      "outputs": []
    },
    {
      "cell_type": "code",
      "source": [
        "x2d"
      ],
      "metadata": {
        "colab": {
          "base_uri": "https://localhost:8080/"
        },
        "id": "k1IX2U2woMix",
        "outputId": "57dc123e-da6c-4312-ef94-6dbbc77620fd"
      },
      "execution_count": 12,
      "outputs": [
        {
          "output_type": "execute_result",
          "data": {
            "text/plain": [
              "array([[ 2.95255073, -5.5833552 ],\n",
              "       [ 2.92008805, -5.08398122],\n",
              "       [ 2.73228202, -5.12456178],\n",
              "       [ 2.88567495, -4.94670661],\n",
              "       [ 2.90446658, -5.59373874],\n",
              "       [ 3.30801075, -6.01290519],\n",
              "       [ 2.76673481, -5.1894377 ],\n",
              "       [ 3.01430592, -5.42531352],\n",
              "       [ 2.73427213, -4.69006371],\n",
              "       [ 3.00262498, -5.1384736 ],\n",
              "       [ 3.14293689, -5.90392043],\n",
              "       [ 3.02797697, -5.27765538],\n",
              "       [ 2.8811047 , -5.02005889],\n",
              "       [ 2.41127479, -4.75988771],\n",
              "       [ 2.99665465, -6.4419678 ],\n",
              "       [ 3.19618131, -6.61582848],\n",
              "       [ 2.94145982, -6.09215914],\n",
              "       [ 2.95255073, -5.5833552 ],\n",
              "       [ 3.43406158, -6.1303663 ],\n",
              "       [ 3.01688606, -5.78645931],\n",
              "       [ 3.35351476, -5.64137586],\n",
              "       [ 3.02598686, -5.71215345],\n",
              "       [ 2.38198227, -5.41730338],\n",
              "       [ 3.24566553, -5.37530301],\n",
              "       [ 3.30289017, -5.21821492],\n",
              "       [ 3.14234686, -5.10827657],\n",
              "       [ 3.10594365, -5.40550003],\n",
              "       [ 3.0831718 , -5.62746404],\n",
              "       [ 3.00063487, -5.57297166],\n",
              "       [ 3.00719523, -5.06512132],\n",
              "       [ 3.05527937, -5.05473778],\n",
              "       [ 3.17023929, -5.68100283],\n",
              "       [ 3.028567  , -6.07329924],\n",
              "       [ 3.04477849, -6.35918558],\n",
              "       [ 3.00262498, -5.1384736 ],\n",
              "       [ 2.75759432, -5.33614225],\n",
              "       [ 3.01684636, -5.858858  ],\n",
              "       [ 2.86548324, -5.52981641],\n",
              "       [ 2.6335336 , -4.78418307],\n",
              "       [ 3.05328926, -5.48923585],\n",
              "       [ 2.82192965, -5.53924636],\n",
              "       [ 2.73622255, -4.32796433],\n",
              "       [ 2.615332  , -4.9327948 ],\n",
              "       [ 3.09684285, -5.4798059 ],\n",
              "       [ 3.383437  , -5.70720536],\n",
              "       [ 2.8811047 , -5.02005889],\n",
              "       [ 3.10852379, -5.76664583],\n",
              "       [ 2.78493642, -5.04082597],\n",
              "       [ 3.10395354, -5.8399981 ],\n",
              "       [ 2.93176899, -5.37082114],\n",
              "       [ 6.74458189, -5.92111675],\n",
              "       [ 6.32740636, -5.57720976],\n",
              "       [ 6.89797481, -5.74326158],\n",
              "       [ 5.60027481, -4.43222345],\n",
              "       [ 6.49443064, -5.32409513],\n",
              "       [ 6.09092616, -4.83253   ],\n",
              "       [ 6.46259768, -5.54796632],\n",
              "       [ 4.71580981, -4.26168976],\n",
              "       [ 6.52431318, -5.46232332],\n",
              "       [ 5.35528384, -4.55749342],\n",
              "       [ 4.97447183, -3.98876165],\n",
              "       [ 5.87577804, -5.16842685],\n",
              "       [ 5.80429233, -4.67752922],\n",
              "       [ 6.4210342 , -5.1228982 ],\n",
              "       [ 5.21810241, -5.02123492],\n",
              "       [ 6.36181945, -5.71448436],\n",
              "       [ 6.03374122, -4.9172194 ],\n",
              "       [ 5.77245937, -4.90140041],\n",
              "       [ 6.34044769, -4.70630644],\n",
              "       [ 5.52941882, -4.664571  ],\n",
              "       [ 6.40740285, -5.19815766],\n",
              "       [ 5.78867086, -5.18728674],\n",
              "       [ 6.71867956, -4.91389241],\n",
              "       [ 6.430135  , -5.04859233],\n",
              "       [ 6.17143329, -5.39391913],\n",
              "       [ 6.33193691, -5.57625617],\n",
              "       [ 6.79465614, -5.47623514],\n",
              "       [ 6.92074666, -5.52129757],\n",
              "       [ 6.19877539, -5.09860285],\n",
              "       [ 5.19275042, -4.88205314],\n",
              "       [ 5.40789854, -4.54615629],\n",
              "       [ 5.31626081, -4.56596978],\n",
              "       [ 5.5891839 , -4.94102738],\n",
              "       [ 6.7668034 , -4.83111019],\n",
              "       [ 5.95577453, -4.78937475],\n",
              "       [ 6.15327138, -5.47013218],\n",
              "       [ 6.63673266, -5.6550439 ],\n",
              "       [ 6.27869249, -4.86434812],\n",
              "       [ 5.66719028, -4.99647335],\n",
              "       [ 5.58207321, -4.58083518],\n",
              "       [ 5.93952335, -4.5758871 ],\n",
              "       [ 6.32029567, -5.21701755],\n",
              "       [ 5.68992244, -4.84690803],\n",
              "       [ 4.76389396, -4.25130622],\n",
              "       [ 5.78613042, -4.75374227],\n",
              "       [ 5.79781136, -5.04058219],\n",
              "       [ 5.80691216, -4.96627633],\n",
              "       [ 6.09346661, -5.26607448],\n",
              "       [ 4.50976249, -4.52328074],\n",
              "       [ 5.72437523, -4.91178395],\n",
              "       [ 7.65388823, -5.29039098],\n",
              "       [ 6.68883672, -4.70326553],\n",
              "       [ 7.90141965, -5.59866549],\n",
              "       [ 7.3237405 , -5.07242147],\n",
              "       [ 7.57588185, -5.23494502],\n",
              "       [ 8.7378005 , -5.77958272],\n",
              "       [ 5.80636182, -4.09823378],\n",
              "       [ 8.35503807, -5.57295033],\n",
              "       [ 7.69935255, -4.99126034],\n",
              "       [ 8.06907365, -6.06879604],\n",
              "       [ 6.91621611, -5.52225116],\n",
              "       [ 7.10601224, -5.04717253],\n",
              "       [ 7.41791868, -5.48615246],\n",
              "       [ 6.57641724, -4.51054496],\n",
              "       [ 6.67973591, -4.7775714 ],\n",
              "       [ 7.06050824, -5.41870186],\n",
              "       [ 7.30096865, -5.29438548],\n",
              "       [ 8.79561517, -6.41813849],\n",
              "       [ 9.08810025, -5.48684112],\n",
              "       [ 6.72066967, -4.47939435],\n",
              "       [ 7.62197589, -5.65905955],\n",
              "       [ 6.41849376, -4.68935372],\n",
              "       [ 8.88662318, -5.67507983],\n",
              "       [ 6.70047796, -5.06250415],\n",
              "       [ 7.5349084 , -5.60552076],\n",
              "       [ 8.01383912, -5.79138607],\n",
              "       [ 6.56075608, -5.09270117],\n",
              "       [ 6.59520887, -5.15757709],\n",
              "       [ 7.37182464, -5.06203793],\n",
              "       [ 7.84876525, -5.68240131],\n",
              "       [ 8.21984675, -5.60219377],\n",
              "       [ 8.59866865, -6.60542361],\n",
              "       [ 7.37182464, -5.06203793],\n",
              "       [ 6.87465263, -5.09718304],\n",
              "       [ 7.27307622, -4.72165921],\n",
              "       [ 8.31859517, -5.94257248],\n",
              "       [ 7.27823649, -5.4439508 ],\n",
              "       [ 7.25288451, -5.30476902],\n",
              "       [ 6.46458779, -5.11346825],\n",
              "       [ 7.35616349, -5.64419414],\n",
              "       [ 7.46147227, -5.47672251],\n",
              "       [ 7.08125028, -5.7036346 ],\n",
              "       [ 6.68883672, -4.70326553],\n",
              "       [ 7.76626801, -5.55551024],\n",
              "       [ 7.5349084 , -5.60552076],\n",
              "       [ 7.10402213, -5.48167059],\n",
              "       [ 6.8103173 , -4.89407893],\n",
              "       [ 7.02605545, -5.35382594],\n",
              "       [ 7.05597768, -5.41965545],\n",
              "       [ 6.70051765, -4.99010546]])"
            ]
          },
          "metadata": {},
          "execution_count": 12
        }
      ]
    },
    {
      "cell_type": "markdown",
      "source": [
        "** There you have it! You now know how to reduce the dimensionality of any dataset\n",
        "down to any number of dimensions, while preserving as much variance as possible **.\n"
      ],
      "metadata": {
        "id": "xvwbmlizoqn6"
      }
    },
    {
      "cell_type": "code",
      "source": [
        "from sklearn.decomposition import PCA"
      ],
      "metadata": {
        "id": "Xnat1K6poZdZ"
      },
      "execution_count": 13,
      "outputs": []
    },
    {
      "cell_type": "code",
      "source": [
        "pca=PCA()"
      ],
      "metadata": {
        "id": "FOcRJMHYpJhh"
      },
      "execution_count": 14,
      "outputs": []
    },
    {
      "cell_type": "code",
      "source": [
        "pca.fit_transform(data_centerd)"
      ],
      "metadata": {
        "colab": {
          "base_uri": "https://localhost:8080/"
        },
        "id": "D_cvULUdplGh",
        "outputId": "9936cec6-9936-41fe-9ded-e54ab0788d46"
      },
      "execution_count": 15,
      "outputs": [
        {
          "output_type": "execute_result",
          "data": {
            "text/plain": [
              "array([[-2.49088018e+00,  3.20973364e-01, -3.39745251e-02],\n",
              "       [-2.52334286e+00, -1.78400622e-01, -2.32901136e-01],\n",
              "       [-2.71114888e+00, -1.37820058e-01, -2.50557233e-03],\n",
              "       [-2.55775595e+00, -3.15675226e-01,  6.70512306e-02],\n",
              "       [-2.53896432e+00,  3.31356903e-01,  9.86154338e-02],\n",
              "       [-2.13542015e+00,  7.50523350e-01,  1.36715190e-01],\n",
              "       [-2.67669609e+00, -7.29441403e-02,  2.31169674e-01],\n",
              "       [-2.42912498e+00,  1.62931683e-01,  7.97923259e-04],\n",
              "       [-2.70915877e+00, -5.72318127e-01,  3.22430634e-02],\n",
              "       [-2.44080592e+00, -1.23908243e-01, -1.31815848e-01],\n",
              "       [-2.30049402e+00,  6.41538592e-01, -6.54553841e-02],\n",
              "       [-2.41545393e+00,  1.52735402e-02,  1.68160330e-01],\n",
              "       [-2.56232620e+00, -2.42322950e-01, -1.66612109e-01],\n",
              "       [-3.03215612e+00, -5.02494126e-01,  6.04799584e-02],\n",
              "       [-2.44677625e+00,  1.17958596e+00, -2.36061755e-01],\n",
              "       [-2.24724960e+00,  1.35344664e+00,  1.99784065e-01],\n",
              "       [-2.50197109e+00,  8.29777299e-01, -2.42222815e-03],\n",
              "       [-2.49088018e+00,  3.20973364e-01, -3.39745251e-02],\n",
              "       [-2.00936932e+00,  8.67984466e-01, -1.28452821e-01],\n",
              "       [-2.42654485e+00,  5.24077475e-01,  1.99712627e-01],\n",
              "       [-2.08991614e+00,  3.78994019e-01, -1.94789473e-01],\n",
              "       [-2.41744404e+00,  4.49771609e-01,  1.33411695e-01],\n",
              "       [-3.06144863e+00,  1.54921541e-01,  2.24634121e-01],\n",
              "       [-2.19776537e+00,  1.12921170e-01, -6.22233264e-02],\n",
              "       [-2.14054073e+00, -4.41669218e-02,  2.72513394e-01],\n",
              "       [-2.30108404e+00, -1.54105269e-01, -2.29621453e-01],\n",
              "       [-2.33748725e+00,  1.43118195e-01,  3.55822779e-02],\n",
              "       [-2.36025910e+00,  3.65082204e-01, -6.54791967e-02],\n",
              "       [-2.44279603e+00,  3.10589825e-01, -1.66564484e-01],\n",
              "       [-2.43623568e+00, -1.97260520e-01,  1.01847492e-01],\n",
              "       [-2.38815153e+00, -2.07644058e-01, -3.07424673e-02],\n",
              "       [-2.27319161e+00,  4.18620993e-01, -2.64358182e-01],\n",
              "       [-2.41486391e+00,  8.10917401e-01,  3.32326399e-01],\n",
              "       [-2.39865241e+00,  1.09680374e+00,  1.64975898e-01],\n",
              "       [-2.44080592e+00, -1.23908243e-01, -1.31815848e-01],\n",
              "       [-2.68583658e+00,  7.37604125e-02, -2.36157006e-01],\n",
              "       [-2.42658454e+00,  5.96476162e-01, -3.33914985e-01],\n",
              "       [-2.57794766e+00,  2.67434575e-01,  1.64904460e-01],\n",
              "       [-2.80989730e+00, -4.78198773e-01,  6.37596413e-02],\n",
              "       [-2.39014164e+00,  2.26854010e-01, -6.54911030e-02],\n",
              "       [-2.62150125e+00,  2.76864524e-01, -2.46985340e-03],\n",
              "       [-2.70720835e+00, -9.34417509e-01, -4.66635913e-01],\n",
              "       [-2.82809891e+00, -3.29587041e-01,  1.96361507e-01],\n",
              "       [-2.34658805e+00,  2.17424062e-01,  1.01883211e-01],\n",
              "       [-2.05999391e+00,  4.44823526e-01,  3.38850046e-01],\n",
              "       [-2.56232620e+00, -2.42322950e-01, -1.66612109e-01],\n",
              "       [-2.33490711e+00,  5.04263988e-01,  2.34496982e-01],\n",
              "       [-2.65849449e+00, -2.21555873e-01,  9.85678086e-02],\n",
              "       [-2.33947736e+00,  5.77616264e-01,  8.33642195e-04],\n",
              "       [-2.51166192e+00,  1.08439304e-01, -1.00287364e-01],\n",
              "       [ 1.30115098e+00,  6.58734908e-01, -3.44485120e-01],\n",
              "       [ 8.83975456e-01,  3.14827917e-01, -1.63196712e-02],\n",
              "       [ 1.45454391e+00,  4.80879739e-01, -2.74928317e-01],\n",
              "       [ 1.56843909e-01, -8.30158391e-01, -1.90348601e-01],\n",
              "       [ 1.05099974e+00,  6.17132922e-02, -3.13028073e-01],\n",
              "       [ 6.47495261e-01, -4.29851841e-01,  1.82499782e-01],\n",
              "       [ 1.01916678e+00,  2.85584481e-01,  1.85838997e-01],\n",
              "       [-7.27621092e-01, -1.00069208e+00,  3.01960068e-02],\n",
              "       [ 1.08088228e+00,  1.99941486e-01, -3.13016167e-01],\n",
              "       [-8.81470597e-02, -7.04888422e-01,  2.38937854e-01],\n",
              "       [-4.68959075e-01, -1.27362019e+00, -2.31728041e-01],\n",
              "       [ 4.32347140e-01, -9.39549917e-02,  7.81705312e-02],\n",
              "       [ 3.60861425e-01, -5.84852619e-01, -5.88094665e-01],\n",
              "       [ 9.77603300e-01, -1.39483639e-01,  5.32133192e-02],\n",
              "       [-2.25328494e-01, -2.41146917e-01,  2.03054970e-03],\n",
              "       [ 9.18388551e-01,  4.52102521e-01, -3.16272037e-01],\n",
              "       [ 5.90310315e-01, -3.45162437e-01,  3.81390674e-01],\n",
              "       [ 3.29028467e-01, -3.60981431e-01, -8.92275950e-02],\n",
              "       [ 8.97016783e-01, -5.56075400e-01, -5.46750945e-01],\n",
              "       [ 8.59879145e-02, -5.97810843e-01, -1.58820117e-01],\n",
              "       [ 9.63971945e-01, -6.42241834e-02,  4.19478524e-01],\n",
              "       [ 3.45239960e-01, -7.50950942e-02, -2.56578096e-01],\n",
              "       [ 1.27524866e+00, -3.48489424e-01, -2.74999755e-01],\n",
              "       [ 9.86704101e-01, -2.13789506e-01, -1.30876134e-02],\n",
              "       [ 7.28002391e-01,  1.31537293e-01, -2.84791178e-01],\n",
              "       [ 8.88506010e-01,  3.13874327e-01, -3.16283944e-01],\n",
              "       [ 1.35122524e+00,  2.13853300e-01, -4.42326443e-01],\n",
              "       [ 1.47731576e+00,  2.58915730e-01, -1.73866842e-01],\n",
              "       [ 7.55344488e-01, -1.63778992e-01,  4.99336362e-02],\n",
              "       [-2.50680482e-01, -3.80328700e-01, -2.97945629e-01],\n",
              "       [-3.55323616e-02, -7.16225550e-01, -1.93616378e-01],\n",
              "       [-1.27170096e-01, -6.96412063e-01, -2.28400732e-01],\n",
              "       [ 1.45752998e-01, -3.21354456e-01, -1.58796304e-01],\n",
              "       [ 1.32337250e+00, -4.31271649e-01,  1.26037899e-01],\n",
              "       [ 5.12343630e-01, -4.73007092e-01,  5.13968727e-01],\n",
              "       [ 7.09840482e-01,  2.07750339e-01,  3.81438299e-01],\n",
              "       [ 1.19330176e+00,  3.92662059e-01, -2.11918973e-01],\n",
              "       [ 8.35261590e-01, -3.98033719e-01, -5.81523393e-01],\n",
              "       [ 2.23759377e-01, -2.65908487e-01,  2.42253255e-01],\n",
              "       [ 1.38642306e-01, -6.81546658e-01, -5.77467359e-02],\n",
              "       [ 4.96092443e-01, -6.86494742e-01,  1.47691615e-01],\n",
              "       [ 8.76864764e-01, -4.53642858e-02,  8.47298971e-02],\n",
              "       [ 2.46491534e-01, -4.15473809e-01, -1.90312882e-01],\n",
              "       [-6.79536948e-01, -1.01107562e+00, -1.02393952e-01],\n",
              "       [ 3.42699516e-01, -5.08639573e-01,  7.81348123e-02],\n",
              "       [ 3.54380455e-01, -2.21799647e-01,  2.10748584e-01],\n",
              "       [ 3.63481256e-01, -2.96105513e-01,  1.44447651e-01],\n",
              "       [ 6.50035705e-01,  3.69263762e-03, -1.52213126e-01],\n",
              "       [-9.33668411e-01, -7.39101095e-01, -1.40434177e-01],\n",
              "       [ 2.80944323e-01, -3.50597892e-01,  4.33623640e-02],\n",
              "       [ 2.21045733e+00,  2.80091451e-02,  6.38035607e-01],\n",
              "       [ 1.24540581e+00, -5.59116304e-01,  2.58615951e-01],\n",
              "       [ 2.45798874e+00,  3.36283655e-01, -1.25963756e-01],\n",
              "       [ 1.88030960e+00, -1.89960370e-01,  2.33694458e-01],\n",
              "       [ 2.13245095e+00, -2.74368235e-02,  2.36986048e-01],\n",
              "       [ 3.29436960e+00,  5.17200882e-01, -2.13918405e-01],\n",
              "       [ 3.62930921e-01, -1.16414806e+00,  5.13909195e-01],\n",
              "       [ 2.91160717e+00,  3.10568495e-01, -1.85705322e-01],\n",
              "       [ 2.25592164e+00, -2.71121499e-01, -2.27096668e-01],\n",
              "       [ 2.62564275e+00,  8.06414205e-01,  2.75121523e-01],\n",
              "       [ 1.47278521e+00,  2.59869320e-01,  1.26097430e-01],\n",
              "       [ 1.66258134e+00, -2.15209313e-01, -6.95494972e-02],\n",
              "       [ 1.97448778e+00,  2.23770621e-01, -6.62340953e-02],\n",
              "       [ 1.13298634e+00, -7.51836877e-01,  1.57518758e-01],\n",
              "       [ 1.23630501e+00, -4.84810438e-01,  3.24916884e-01],\n",
              "       [ 1.61707733e+00,  1.56320018e-01,  2.61955166e-01],\n",
              "       [ 1.85753775e+00,  3.20036385e-02,  1.32632984e-01],\n",
              "       [ 3.35218427e+00,  1.15575665e+00,  2.84984385e-01],\n",
              "       [ 3.64466935e+00,  2.24459282e-01, -4.41058098e-01],\n",
              "       [ 1.27723877e+00, -7.82987492e-01, -2.40251119e-01],\n",
              "       [ 2.17854498e+00,  3.96677707e-01,  6.96474529e-02],\n",
              "       [ 9.75062856e-01, -5.73028118e-01,  3.87926227e-01],\n",
              "       [ 3.44319228e+00,  4.12697989e-01, -3.78024942e-01],\n",
              "       [ 1.25704706e+00, -1.99877691e-01, -1.42397889e-01],\n",
              "       [ 2.09147750e+00,  3.43138918e-01,  2.68526438e-01],\n",
              "       [ 2.57040822e+00,  5.29004228e-01, -2.48665621e-02],\n",
              "       [ 1.11732518e+00, -1.69680665e-01, -4.45922851e-02],\n",
              "       [ 1.15177797e+00, -1.04804748e-01,  1.89082961e-01],\n",
              "       [ 1.92839374e+00, -2.00343909e-01,  1.01104499e-01],\n",
              "       [ 2.40533435e+00,  4.20019470e-01, -2.27037137e-01],\n",
              "       [ 2.77641584e+00,  3.39811931e-01, -3.87863990e-01],\n",
              "       [ 3.15523775e+00,  1.34304177e+00,  4.80532680e-02],\n",
              "       [ 1.92839374e+00, -2.00343909e-01,  1.01104499e-01],\n",
              "       [ 1.43122173e+00, -1.65198800e-01, -6.52824751e-03],\n",
              "       [ 1.82964531e+00, -5.40722624e-01,  1.67369713e-01],\n",
              "       [ 2.87516427e+00,  6.80190646e-01, -4.54129204e-01],\n",
              "       [ 1.83480559e+00,  1.81568961e-01,  5.65199121e-01],\n",
              "       [ 1.80945360e+00,  4.23871771e-02,  2.65222943e-01],\n",
              "       [ 1.02115689e+00, -1.48913588e-01,  2.20587633e-01],\n",
              "       [ 1.91273258e+00,  3.81812303e-01, -1.01006544e-01],\n",
              "       [ 2.01804137e+00,  2.14340673e-01,  1.01140218e-01],\n",
              "       [ 1.63781938e+00,  4.41252765e-01, -2.05359607e-01],\n",
              "       [ 1.24540581e+00, -5.59116304e-01,  2.58615951e-01],\n",
              "       [ 2.32283711e+00,  2.93128404e-01,  2.05505188e-01],\n",
              "       [ 2.09147750e+00,  3.43138918e-01,  2.68526438e-01],\n",
              "       [ 1.66059123e+00,  2.19288756e-01, -1.04298133e-01],\n",
              "       [ 1.36688639e+00, -3.68302911e-01, -2.40215400e-01],\n",
              "       [ 1.58262454e+00,  9.14441006e-02,  2.82799197e-02],\n",
              "       [ 1.61254678e+00,  1.57273608e-01,  5.61919438e-01],\n",
              "       [ 1.25708675e+00, -2.72276378e-01,  3.91229723e-01]])"
            ]
          },
          "metadata": {},
          "execution_count": 15
        }
      ]
    },
    {
      "cell_type": "markdown",
      "source": [
        "**here the variances ratio for each PCs**\n",
        "- here first pc and second pc is highest ratio so you can select it and second pc is orothognal of the second"
      ],
      "metadata": {
        "id": "iPPKDZX07ghT"
      }
    },
    {
      "cell_type": "code",
      "source": [
        "pca.explained_variance_ratio_"
      ],
      "metadata": {
        "colab": {
          "base_uri": "https://localhost:8080/"
        },
        "id": "yZI-iwmHpw_p",
        "outputId": "230d0832-5172-4922-bf1a-a9cd8bf90818"
      },
      "execution_count": 16,
      "outputs": [
        {
          "output_type": "execute_result",
          "data": {
            "text/plain": [
              "array([0.92464061, 0.06046599, 0.0148934 ])"
            ]
          },
          "metadata": {},
          "execution_count": 16
        }
      ]
    },
    {
      "cell_type": "code",
      "source": [
        "pca=PCA(n_components=2) "
      ],
      "metadata": {
        "id": "gz7e6UAFp7a5"
      },
      "execution_count": 17,
      "outputs": []
    },
    {
      "cell_type": "code",
      "source": [
        "new_data=pca.fit_transform(data_centerd)"
      ],
      "metadata": {
        "id": "GBAOn28sqr4R"
      },
      "execution_count": 18,
      "outputs": []
    },
    {
      "cell_type": "code",
      "source": [
        "plt.plot(new_data)"
      ],
      "metadata": {
        "colab": {
          "base_uri": "https://localhost:8080/",
          "height": 300
        },
        "id": "JqB08L3lqyoJ",
        "outputId": "b7d76d34-547b-4659-a628-c01d276541f9"
      },
      "execution_count": 19,
      "outputs": [
        {
          "output_type": "execute_result",
          "data": {
            "text/plain": [
              "[<matplotlib.lines.Line2D at 0x7f403359f160>,\n",
              " <matplotlib.lines.Line2D at 0x7f403359f2b0>]"
            ]
          },
          "metadata": {},
          "execution_count": 19
        },
        {
          "output_type": "display_data",
          "data": {
            "text/plain": [
              "<Figure size 432x288 with 1 Axes>"
            ],
            "image/png": "[encoded data removed]"
          },
          "metadata": {
            "needs_background": "light"
          }
        }
      ]
    },
    {
      "cell_type": "code",
      "source": [],
      "metadata": {
        "id": "FbX1ByAk6jj5"
      },
      "execution_count": null,
      "outputs": []
    },
    {
      "cell_type": "markdown",
      "source": [],
      "metadata": {
        "id": "EUql8fMO7d6g"
      }
    }
  ]
}